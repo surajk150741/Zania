{
 "cells": [
  {
   "cell_type": "code",
   "execution_count": 1,
   "metadata": {},
   "outputs": [
    {
     "name": "stdout",
     "output_type": "stream",
     "text": [
      "Collecting pypdf==4.3.1\n",
      "  Using cached pypdf-4.3.1-py3-none-any.whl (295 kB)\n",
      "Collecting langchain==0.2.12\n",
      "  Using cached langchain-0.2.12-py3-none-any.whl (990 kB)\n",
      "Collecting langchain-core==0.2.29\n",
      "  Using cached langchain_core-0.2.29-py3-none-any.whl (383 kB)\n",
      "Collecting langchain-experimental==0.0.64\n",
      "  Using cached langchain_experimental-0.0.64-py3-none-any.whl (204 kB)\n",
      "Collecting langchain-openai==0.1.20\n",
      "  Using cached langchain_openai-0.1.20-py3-none-any.whl (48 kB)\n",
      "Collecting langsmith==0.1.98\n",
      "  Using cached langsmith-0.1.98-py3-none-any.whl (140 kB)\n",
      "Requirement already satisfied: typing_extensions>=4.0 in c:\\users\\suraj\\appdata\\local\\packages\\pythonsoftwarefoundation.python.3.9_qbz5n2kfra8p0\\localcache\\local-packages\\python39\\site-packages (from pypdf==4.3.1) (4.12.2)\n",
      "Requirement already satisfied: PyYAML>=5.3 in c:\\users\\suraj\\appdata\\local\\packages\\pythonsoftwarefoundation.python.3.9_qbz5n2kfra8p0\\localcache\\local-packages\\python39\\site-packages (from langchain==0.2.12) (6.0.1)\n",
      "Requirement already satisfied: requests<3,>=2 in c:\\users\\suraj\\appdata\\local\\packages\\pythonsoftwarefoundation.python.3.9_qbz5n2kfra8p0\\localcache\\local-packages\\python39\\site-packages (from langchain==0.2.12) (2.32.2)\n",
      "Requirement already satisfied: async-timeout<5.0.0,>=4.0.0 in c:\\users\\suraj\\appdata\\local\\packages\\pythonsoftwarefoundation.python.3.9_qbz5n2kfra8p0\\localcache\\local-packages\\python39\\site-packages (from langchain==0.2.12) (4.0.3)\n",
      "Requirement already satisfied: numpy<2,>=1 in c:\\users\\suraj\\appdata\\local\\packages\\pythonsoftwarefoundation.python.3.9_qbz5n2kfra8p0\\localcache\\local-packages\\python39\\site-packages (from langchain==0.2.12) (1.26.4)\n",
      "Requirement already satisfied: langchain-text-splitters<0.3.0,>=0.2.0 in c:\\users\\suraj\\appdata\\local\\packages\\pythonsoftwarefoundation.python.3.9_qbz5n2kfra8p0\\localcache\\local-packages\\python39\\site-packages (from langchain==0.2.12) (0.2.0)\n",
      "Requirement already satisfied: pydantic<3,>=1 in c:\\users\\suraj\\appdata\\local\\packages\\pythonsoftwarefoundation.python.3.9_qbz5n2kfra8p0\\localcache\\local-packages\\python39\\site-packages (from langchain==0.2.12) (2.7.1)\n",
      "Requirement already satisfied: tenacity!=8.4.0,<9.0.0,>=8.1.0 in c:\\users\\suraj\\appdata\\local\\packages\\pythonsoftwarefoundation.python.3.9_qbz5n2kfra8p0\\localcache\\local-packages\\python39\\site-packages (from langchain==0.2.12) (8.3.0)\n",
      "Requirement already satisfied: SQLAlchemy<3,>=1.4 in c:\\users\\suraj\\appdata\\local\\packages\\pythonsoftwarefoundation.python.3.9_qbz5n2kfra8p0\\localcache\\local-packages\\python39\\site-packages (from langchain==0.2.12) (2.0.30)\n",
      "Requirement already satisfied: aiohttp<4.0.0,>=3.8.3 in c:\\users\\suraj\\appdata\\local\\packages\\pythonsoftwarefoundation.python.3.9_qbz5n2kfra8p0\\localcache\\local-packages\\python39\\site-packages (from langchain==0.2.12) (3.9.5)\n",
      "Requirement already satisfied: packaging<25,>=23.2 in c:\\users\\suraj\\appdata\\local\\packages\\pythonsoftwarefoundation.python.3.9_qbz5n2kfra8p0\\localcache\\local-packages\\python39\\site-packages (from langchain-core==0.2.29) (23.2)\n",
      "Requirement already satisfied: jsonpatch<2.0,>=1.33 in c:\\users\\suraj\\appdata\\local\\packages\\pythonsoftwarefoundation.python.3.9_qbz5n2kfra8p0\\localcache\\local-packages\\python39\\site-packages (from langchain-core==0.2.29) (1.33)\n",
      "Collecting langchain-community<0.3.0,>=0.2.10\n",
      "  Using cached langchain_community-0.2.11-py3-none-any.whl (2.3 MB)\n",
      "Requirement already satisfied: tiktoken<1,>=0.7 in c:\\users\\suraj\\appdata\\local\\packages\\pythonsoftwarefoundation.python.3.9_qbz5n2kfra8p0\\localcache\\local-packages\\python39\\site-packages (from langchain-openai==0.1.20) (0.7.0)\n",
      "Collecting openai<2.0.0,>=1.32.0\n",
      "  Downloading openai-1.40.3-py3-none-any.whl (360 kB)\n",
      "     -------------------------------------- 360.7/360.7 KB 2.2 MB/s eta 0:00:00\n",
      "Requirement already satisfied: orjson<4.0.0,>=3.9.14 in c:\\users\\suraj\\appdata\\local\\packages\\pythonsoftwarefoundation.python.3.9_qbz5n2kfra8p0\\localcache\\local-packages\\python39\\site-packages (from langsmith==0.1.98) (3.10.3)\n",
      "Requirement already satisfied: multidict<7.0,>=4.5 in c:\\users\\suraj\\appdata\\local\\packages\\pythonsoftwarefoundation.python.3.9_qbz5n2kfra8p0\\localcache\\local-packages\\python39\\site-packages (from aiohttp<4.0.0,>=3.8.3->langchain==0.2.12) (6.0.5)\n",
      "Requirement already satisfied: frozenlist>=1.1.1 in c:\\users\\suraj\\appdata\\local\\packages\\pythonsoftwarefoundation.python.3.9_qbz5n2kfra8p0\\localcache\\local-packages\\python39\\site-packages (from aiohttp<4.0.0,>=3.8.3->langchain==0.2.12) (1.4.1)\n",
      "Requirement already satisfied: aiosignal>=1.1.2 in c:\\users\\suraj\\appdata\\local\\packages\\pythonsoftwarefoundation.python.3.9_qbz5n2kfra8p0\\localcache\\local-packages\\python39\\site-packages (from aiohttp<4.0.0,>=3.8.3->langchain==0.2.12) (1.3.1)\n",
      "Requirement already satisfied: yarl<2.0,>=1.0 in c:\\users\\suraj\\appdata\\local\\packages\\pythonsoftwarefoundation.python.3.9_qbz5n2kfra8p0\\localcache\\local-packages\\python39\\site-packages (from aiohttp<4.0.0,>=3.8.3->langchain==0.2.12) (1.9.4)\n",
      "Requirement already satisfied: attrs>=17.3.0 in c:\\users\\suraj\\appdata\\local\\packages\\pythonsoftwarefoundation.python.3.9_qbz5n2kfra8p0\\localcache\\local-packages\\python39\\site-packages (from aiohttp<4.0.0,>=3.8.3->langchain==0.2.12) (23.2.0)\n",
      "Requirement already satisfied: jsonpointer>=1.9 in c:\\users\\suraj\\appdata\\local\\packages\\pythonsoftwarefoundation.python.3.9_qbz5n2kfra8p0\\localcache\\local-packages\\python39\\site-packages (from jsonpatch<2.0,>=1.33->langchain-core==0.2.29) (2.4)\n",
      "Requirement already satisfied: dataclasses-json<0.7,>=0.5.7 in c:\\users\\suraj\\appdata\\local\\packages\\pythonsoftwarefoundation.python.3.9_qbz5n2kfra8p0\\localcache\\local-packages\\python39\\site-packages (from langchain-community<0.3.0,>=0.2.10->langchain-experimental==0.0.64) (0.6.6)\n",
      "Requirement already satisfied: distro<2,>=1.7.0 in c:\\users\\suraj\\appdata\\local\\packages\\pythonsoftwarefoundation.python.3.9_qbz5n2kfra8p0\\localcache\\local-packages\\python39\\site-packages (from openai<2.0.0,>=1.32.0->langchain-openai==0.1.20) (1.9.0)\n",
      "Requirement already satisfied: tqdm>4 in c:\\users\\suraj\\appdata\\local\\packages\\pythonsoftwarefoundation.python.3.9_qbz5n2kfra8p0\\localcache\\local-packages\\python39\\site-packages (from openai<2.0.0,>=1.32.0->langchain-openai==0.1.20) (4.66.4)\n",
      "Collecting jiter<1,>=0.4.0\n",
      "  Downloading jiter-0.5.0-cp39-none-win_amd64.whl (191 kB)\n",
      "     ------------------------------------ 191.8/191.8 KB 322.5 kB/s eta 0:00:00\n",
      "Requirement already satisfied: anyio<5,>=3.5.0 in c:\\users\\suraj\\appdata\\local\\packages\\pythonsoftwarefoundation.python.3.9_qbz5n2kfra8p0\\localcache\\local-packages\\python39\\site-packages (from openai<2.0.0,>=1.32.0->langchain-openai==0.1.20) (4.3.0)\n",
      "Requirement already satisfied: httpx<1,>=0.23.0 in c:\\users\\suraj\\appdata\\local\\packages\\pythonsoftwarefoundation.python.3.9_qbz5n2kfra8p0\\localcache\\local-packages\\python39\\site-packages (from openai<2.0.0,>=1.32.0->langchain-openai==0.1.20) (0.27.0)\n",
      "Requirement already satisfied: sniffio in c:\\users\\suraj\\appdata\\local\\packages\\pythonsoftwarefoundation.python.3.9_qbz5n2kfra8p0\\localcache\\local-packages\\python39\\site-packages (from openai<2.0.0,>=1.32.0->langchain-openai==0.1.20) (1.3.1)\n",
      "Requirement already satisfied: pydantic-core==2.18.2 in c:\\users\\suraj\\appdata\\local\\packages\\pythonsoftwarefoundation.python.3.9_qbz5n2kfra8p0\\localcache\\local-packages\\python39\\site-packages (from pydantic<3,>=1->langchain==0.2.12) (2.18.2)\n",
      "Requirement already satisfied: annotated-types>=0.4.0 in c:\\users\\suraj\\appdata\\local\\packages\\pythonsoftwarefoundation.python.3.9_qbz5n2kfra8p0\\localcache\\local-packages\\python39\\site-packages (from pydantic<3,>=1->langchain==0.2.12) (0.7.0)\n",
      "Requirement already satisfied: charset-normalizer<4,>=2 in c:\\users\\suraj\\appdata\\local\\packages\\pythonsoftwarefoundation.python.3.9_qbz5n2kfra8p0\\localcache\\local-packages\\python39\\site-packages (from requests<3,>=2->langchain==0.2.12) (3.3.2)\n",
      "Requirement already satisfied: certifi>=2017.4.17 in c:\\users\\suraj\\appdata\\local\\packages\\pythonsoftwarefoundation.python.3.9_qbz5n2kfra8p0\\localcache\\local-packages\\python39\\site-packages (from requests<3,>=2->langchain==0.2.12) (2024.2.2)\n",
      "Requirement already satisfied: idna<4,>=2.5 in c:\\users\\suraj\\appdata\\local\\packages\\pythonsoftwarefoundation.python.3.9_qbz5n2kfra8p0\\localcache\\local-packages\\python39\\site-packages (from requests<3,>=2->langchain==0.2.12) (3.7)\n",
      "Requirement already satisfied: urllib3<3,>=1.21.1 in c:\\users\\suraj\\appdata\\local\\packages\\pythonsoftwarefoundation.python.3.9_qbz5n2kfra8p0\\localcache\\local-packages\\python39\\site-packages (from requests<3,>=2->langchain==0.2.12) (2.2.1)\n",
      "Requirement already satisfied: greenlet!=0.4.17 in c:\\users\\suraj\\appdata\\local\\packages\\pythonsoftwarefoundation.python.3.9_qbz5n2kfra8p0\\localcache\\local-packages\\python39\\site-packages (from SQLAlchemy<3,>=1.4->langchain==0.2.12) (3.0.3)\n",
      "Requirement already satisfied: regex>=2022.1.18 in c:\\users\\suraj\\appdata\\local\\packages\\pythonsoftwarefoundation.python.3.9_qbz5n2kfra8p0\\localcache\\local-packages\\python39\\site-packages (from tiktoken<1,>=0.7->langchain-openai==0.1.20) (2022.1.18)\n",
      "Requirement already satisfied: exceptiongroup>=1.0.2 in c:\\users\\suraj\\appdata\\local\\packages\\pythonsoftwarefoundation.python.3.9_qbz5n2kfra8p0\\localcache\\local-packages\\python39\\site-packages (from anyio<5,>=3.5.0->openai<2.0.0,>=1.32.0->langchain-openai==0.1.20) (1.2.1)\n",
      "Requirement already satisfied: marshmallow<4.0.0,>=3.18.0 in c:\\users\\suraj\\appdata\\local\\packages\\pythonsoftwarefoundation.python.3.9_qbz5n2kfra8p0\\localcache\\local-packages\\python39\\site-packages (from dataclasses-json<0.7,>=0.5.7->langchain-community<0.3.0,>=0.2.10->langchain-experimental==0.0.64) (3.21.2)\n",
      "Requirement already satisfied: typing-inspect<1,>=0.4.0 in c:\\users\\suraj\\appdata\\local\\packages\\pythonsoftwarefoundation.python.3.9_qbz5n2kfra8p0\\localcache\\local-packages\\python39\\site-packages (from dataclasses-json<0.7,>=0.5.7->langchain-community<0.3.0,>=0.2.10->langchain-experimental==0.0.64) (0.9.0)\n",
      "Requirement already satisfied: httpcore==1.* in c:\\users\\suraj\\appdata\\local\\packages\\pythonsoftwarefoundation.python.3.9_qbz5n2kfra8p0\\localcache\\local-packages\\python39\\site-packages (from httpx<1,>=0.23.0->openai<2.0.0,>=1.32.0->langchain-openai==0.1.20) (1.0.5)\n",
      "Requirement already satisfied: h11<0.15,>=0.13 in c:\\users\\suraj\\appdata\\local\\packages\\pythonsoftwarefoundation.python.3.9_qbz5n2kfra8p0\\localcache\\local-packages\\python39\\site-packages (from httpcore==1.*->httpx<1,>=0.23.0->openai<2.0.0,>=1.32.0->langchain-openai==0.1.20) (0.14.0)\n",
      "Requirement already satisfied: colorama in c:\\users\\suraj\\appdata\\local\\packages\\pythonsoftwarefoundation.python.3.9_qbz5n2kfra8p0\\localcache\\local-packages\\python39\\site-packages (from tqdm>4->openai<2.0.0,>=1.32.0->langchain-openai==0.1.20) (0.4.4)\n",
      "Requirement already satisfied: mypy-extensions>=0.3.0 in c:\\users\\suraj\\appdata\\local\\packages\\pythonsoftwarefoundation.python.3.9_qbz5n2kfra8p0\\localcache\\local-packages\\python39\\site-packages (from typing-inspect<1,>=0.4.0->dataclasses-json<0.7,>=0.5.7->langchain-community<0.3.0,>=0.2.10->langchain-experimental==0.0.64) (1.0.0)\n",
      "Installing collected packages: pypdf, jiter, openai, langsmith, langchain-core, langchain-openai, langchain, langchain-community, langchain-experimental\n",
      "  Attempting uninstall: openai\n",
      "    Found existing installation: openai 1.30.1\n",
      "    Uninstalling openai-1.30.1:\n",
      "      Successfully uninstalled openai-1.30.1\n",
      "  Attempting uninstall: langsmith\n",
      "    Found existing installation: langsmith 0.1.75\n",
      "    Uninstalling langsmith-0.1.75:\n",
      "      Successfully uninstalled langsmith-0.1.75\n",
      "  Attempting uninstall: langchain-core\n",
      "    Found existing installation: langchain-core 0.2.5\n",
      "    Uninstalling langchain-core-0.2.5:\n",
      "      Successfully uninstalled langchain-core-0.2.5\n",
      "  Attempting uninstall: langchain-openai\n",
      "    Found existing installation: langchain-openai 0.1.8\n",
      "    Uninstalling langchain-openai-0.1.8:\n",
      "      Successfully uninstalled langchain-openai-0.1.8\n",
      "  Attempting uninstall: langchain\n",
      "    Found existing installation: langchain 0.2.0\n",
      "    Uninstalling langchain-0.2.0:\n",
      "      Successfully uninstalled langchain-0.2.0\n",
      "  Attempting uninstall: langchain-community\n",
      "    Found existing installation: langchain-community 0.2.0\n",
      "    Uninstalling langchain-community-0.2.0:\n",
      "      Successfully uninstalled langchain-community-0.2.0\n",
      "  Attempting uninstall: langchain-experimental\n",
      "    Found existing installation: langchain-experimental 0.0.59\n",
      "    Uninstalling langchain-experimental-0.0.59:\n",
      "      Successfully uninstalled langchain-experimental-0.0.59\n",
      "Successfully installed jiter-0.5.0 langchain-0.2.12 langchain-community-0.2.11 langchain-core-0.2.29 langchain-experimental-0.0.64 langchain-openai-0.1.20 langsmith-0.1.98 openai-1.40.3 pypdf-4.3.1\n"
     ]
    },
    {
     "name": "stderr",
     "output_type": "stream",
     "text": [
      "WARNING: You are using pip version 22.0.2; however, version 24.2 is available.\n",
      "You should consider upgrading via the 'C:\\Users\\suraj\\AppData\\Local\\Microsoft\\WindowsApps\\PythonSoftwareFoundation.Python.3.9_qbz5n2kfra8p0\\python.exe -m pip install --upgrade pip' command.\n"
     ]
    }
   ],
   "source": [
    "!pip install pypdf==4.3.1 langchain==0.2.12 langchain-core==0.2.29 langchain-experimental==0.0.64 langchain-openai==0.1.20 langsmith==0.1.98"
   ]
  },
  {
   "cell_type": "code",
   "execution_count": null,
   "metadata": {},
   "outputs": [],
   "source": []
  }
 ],
 "metadata": {
  "kernelspec": {
   "display_name": "Python 3",
   "language": "python",
   "name": "python3"
  },
  "language_info": {
   "codemirror_mode": {
    "name": "ipython",
    "version": 3
   },
   "file_extension": ".py",
   "mimetype": "text/x-python",
   "name": "python",
   "nbconvert_exporter": "python",
   "pygments_lexer": "ipython3",
   "version": "3.9.13"
  },
  "orig_nbformat": 4
 },
 "nbformat": 4,
 "nbformat_minor": 2
}
